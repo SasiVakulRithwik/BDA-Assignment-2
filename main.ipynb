{
 "cells": [
  {
   "cell_type": "code",
   "execution_count": 5,
   "metadata": {},
   "outputs": [
    {
     "name": "stdout",
     "output_type": "stream",
     "text": [
      "Test Accuracy: 1.00\n",
      "+-----------------+-----+----------+\n",
      "|         features|label|prediction|\n",
      "+-----------------+-----+----------+\n",
      "|[4.4,3.0,1.3,0.2]|  0.0|       0.0|\n",
      "|[4.6,3.2,1.4,0.2]|  0.0|       0.0|\n",
      "|[4.6,3.6,1.0,0.2]|  0.0|       0.0|\n",
      "|[4.8,3.1,1.6,0.2]|  0.0|       0.0|\n",
      "|[4.9,3.1,1.5,0.1]|  0.0|       0.0|\n",
      "|[5.0,2.3,3.3,1.0]|  1.0|       1.0|\n",
      "|[5.0,3.5,1.3,0.3]|  0.0|       0.0|\n",
      "|[5.1,3.5,1.4,0.2]|  0.0|       0.0|\n",
      "|[5.3,3.7,1.5,0.2]|  0.0|       0.0|\n",
      "|[5.4,3.0,4.5,1.5]|  1.0|       1.0|\n",
      "|[5.4,3.4,1.5,0.4]|  0.0|       0.0|\n",
      "|[5.4,3.7,1.5,0.2]|  0.0|       0.0|\n",
      "|[5.4,3.9,1.7,0.4]|  0.0|       0.0|\n",
      "|[5.5,2.5,4.0,1.3]|  1.0|       1.0|\n",
      "|[5.6,2.9,3.6,1.3]|  1.0|       1.0|\n",
      "|[5.7,2.9,4.2,1.3]|  1.0|       1.0|\n",
      "|[5.8,2.7,5.1,1.9]|  2.0|       2.0|\n",
      "|[6.3,2.5,4.9,1.5]|  1.0|       1.0|\n",
      "|[6.4,3.1,5.5,1.8]|  2.0|       2.0|\n",
      "|[6.5,3.0,5.2,2.0]|  2.0|       2.0|\n",
      "|[6.5,3.0,5.5,1.8]|  2.0|       2.0|\n",
      "|[6.5,3.0,5.8,2.2]|  2.0|       2.0|\n",
      "|[6.7,3.3,5.7,2.5]|  2.0|       2.0|\n",
      "|[6.8,3.0,5.5,2.1]|  2.0|       2.0|\n",
      "+-----------------+-----+----------+\n",
      "\n"
     ]
    }
   ],
   "source": [
    "from pyspark.sql import SparkSession\n",
    "from pyspark.ml.feature import StringIndexer, VectorAssembler\n",
    "from pyspark.ml.classification import DecisionTreeClassifier\n",
    "from pyspark.ml.evaluation import MulticlassClassificationEvaluator\n",
    "import urllib.request\n",
    "\n",
    "# 1. Start Spark Session\n",
    "spark = SparkSession.builder.appName(\"IrisClassification\").getOrCreate()\n",
    "\n",
    "# 2. Load dataset\n",
    "data_url = \"https://raw.githubusercontent.com/uiuc-cse/data-fa14/gh-pages/data/iris.csv\"\n",
    "local_path = \"iris.csv\"\n",
    "urllib.request.urlretrieve(data_url, local_path)\n",
    "iris_df = spark.read.csv(local_path, header=True, inferSchema=True)\n",
    "\n",
    "# 3. Encode label column\n",
    "indexer = StringIndexer(inputCol=\"species\", outputCol=\"label\")\n",
    "iris_df = indexer.fit(iris_df).transform(iris_df)\n",
    "\n",
    "# 4. Assemble features\n",
    "assembler = VectorAssembler(\n",
    "    inputCols=[\"sepal_length\", \"sepal_width\", \"petal_length\", \"petal_width\"],\n",
    "    outputCol=\"features\"\n",
    ")\n",
    "iris_df = assembler.transform(iris_df)\n",
    "\n",
    "# 5. Split data\n",
    "train_df, test_df = iris_df.randomSplit([0.8, 0.2], seed=42)\n",
    "\n",
    "# 6. Train Decision Tree model\n",
    "dt = DecisionTreeClassifier(featuresCol=\"features\", labelCol=\"label\")\n",
    "model = dt.fit(train_df)\n",
    "\n",
    "# 7. Make predictions\n",
    "predictions = model.transform(test_df)\n",
    "\n",
    "# 8. Evaluate the model\n",
    "evaluator = MulticlassClassificationEvaluator(labelCol=\"label\", predictionCol=\"prediction\", metricName=\"accuracy\")\n",
    "accuracy = evaluator.evaluate(predictions)\n",
    "\n",
    "print(f\"Test Accuracy: {accuracy:.2f}\")\n",
    "\n",
    "# Optional: Show a few predictions\n",
    "predictions.select(\"features\", \"label\", \"prediction\").show(50)\n",
    "\n",
    "# Stop Spark session\n",
    "spark.stop()\n"
   ]
  }
 ],
 "metadata": {
  "kernelspec": {
   "display_name": "Python 3",
   "language": "python",
   "name": "python3"
  },
  "language_info": {
   "codemirror_mode": {
    "name": "ipython",
    "version": 3
   },
   "file_extension": ".py",
   "mimetype": "text/x-python",
   "name": "python",
   "nbconvert_exporter": "python",
   "pygments_lexer": "ipython3",
   "version": "3.12.1"
  }
 },
 "nbformat": 4,
 "nbformat_minor": 2
}
